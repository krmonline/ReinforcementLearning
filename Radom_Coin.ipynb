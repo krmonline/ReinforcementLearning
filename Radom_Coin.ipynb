{
  "nbformat": 4,
  "nbformat_minor": 0,
  "metadata": {
    "colab": {
      "name": "Radom_Coin.ipynb",
      "provenance": [],
      "authorship_tag": "ABX9TyOrlLJdUT3nOe6dHLYyXUHW",
      "include_colab_link": true
    },
    "kernelspec": {
      "name": "python3",
      "display_name": "Python 3"
    }
  },
  "cells": [
    {
      "cell_type": "markdown",
      "metadata": {
        "id": "view-in-github",
        "colab_type": "text"
      },
      "source": [
        "<a href=\"https://colab.research.google.com/github/krmonline/ReinforcementLearning/blob/main/Radom_Coin.ipynb\" target=\"_parent\"><img src=\"https://colab.research.google.com/assets/colab-badge.svg\" alt=\"Open In Colab\"/></a>"
      ]
    },
    {
      "cell_type": "code",
      "metadata": {
        "id": "rtXMqiVw8LH4"
      },
      "source": [
        "import random\n",
        "import numpy as np\n",
        "import matplotlib.pyplot as plt"
      ],
      "execution_count": null,
      "outputs": []
    },
    {
      "cell_type": "code",
      "metadata": {
        "id": "CccJQGqh8Oi0",
        "outputId": "4d664b49-6ddf-4d7f-e9cc-eead1c2e4fc0",
        "colab": {
          "base_uri": "https://localhost:8080/",
          "height": 265
        }
      },
      "source": [
        "history =  []\n",
        "history_cum = []\n",
        "avg = 0\n",
        "for i in range(10000):\n",
        "  coin = np.round(np.random.rand())\n",
        "  history.append(coin)\n",
        "  avg = np.average(history)\n",
        "  history_cum.append(avg)\n",
        "#plt.plot(history)\n",
        "plt.plot(history_cum)\n",
        "plt.show()"
      ],
      "execution_count": null,
      "outputs": [
        {
          "output_type": "display_data",
          "data": {
            "image/png": "[encoded data removed]",
            "text/plain": [
              "<Figure size 432x288 with 1 Axes>"
            ]
          },
          "metadata": {
            "tags": [],
            "needs_background": "light"
          }
        }
      ]
    },
    {
      "cell_type": "code",
      "metadata": {
        "id": "rWhOzDtY9aGf"
      },
      "source": [
        ""
      ],
      "execution_count": null,
      "outputs": []
    }
  ]
}