{
  "nbformat": 4,
  "nbformat_minor": 0,
  "metadata": {
    "colab": {
      "name": "Qlearning.ipynb",
      "provenance": [],
      "machine_shape": "hm",
      "authorship_tag": "ABX9TyM2WAEYpsysGf9Si4PdlVTL",
      "include_colab_link": true
    },
    "kernelspec": {
      "name": "python3",
      "display_name": "Python 3"
    }
  },
  "cells": [
    {
      "cell_type": "markdown",
      "metadata": {
        "id": "view-in-github",
        "colab_type": "text"
      },
      "source": [
        "<a href=\"https://colab.research.google.com/github/krmonline/ReinforcementLearning/blob/main/Qlearning.ipynb\" target=\"_parent\"><img src=\"https://colab.research.google.com/assets/colab-badge.svg\" alt=\"Open In Colab\"/></a>"
      ]
    },
    {
      "cell_type": "code",
      "metadata": {
        "id": "idNWmNDKugq5"
      },
      "source": [
        "#https://www.learndatasci.com/tutorials/reinforcement-q-learning-scratch-python-openai-gym/\n",
        "import numpy as np\n",
        "import random\n",
        "import pandas as pd\n",
        "import matplotlib.pyplot as plt"
      ],
      "execution_count": null,
      "outputs": []
    },
    {
      "cell_type": "code",
      "metadata": {
        "id": "18mV53RzW177"
      },
      "source": [
        "fac1 = 4\n",
        "fac2 = 9\n",
        "fac3 = 2\n",
        "n = 4\n",
        "e = 6\n",
        "w = 2\n",
        "s = 3\n",
        "total_stage = (fac1+1) * (fac2+1) * (fac3+1) * (n+1) * (e+1) * (w+1) * (s+1)\n",
        "total_action = 12\n",
        "Qtable = np.zeros([total_stage,total_action+1])\n",
        "Qtable.shape\n",
        "QtableCum = Qtable"
      ],
      "execution_count": null,
      "outputs": []
    },
    {
      "cell_type": "code",
      "metadata": {
        "id": "nMj0g3ukcNcV"
      },
      "source": [
        "df = pd.DataFrame(columns=['f1','f2','f3','n','e','w','s'])\n",
        "MapRevTable = np.zeros([fac1+1,fac2+1,fac3+1,n+1,e+1,w+1,s+1])\n",
        "facTable = np.zeros([total_stage]).astype(\"str\")\n",
        "num = 0\n",
        "for i0 in range(s+1):\n",
        "  for i1 in range(w+1):\n",
        "    for i2 in range(e+1):\n",
        "      for i3  in range(n+1):\n",
        "        for i4 in range(fac3+1):\n",
        "          for i5 in range(fac2+1):\n",
        "            for i6 in range(fac1+1):\n",
        "              #print(num,i6,i5,i4,i3,i2,i1)\n",
        "              facTable[num] = str(i6)+\",\"+str(i5)+\",\"+str(i4)+\",\"+str(i3)+\",\"+str(i2)+\",\"+str(i1)+\",\"+str(i0)\n",
        "              MapRevTable[i6][i5][i4][i3][i2][i1][i0] = num\n",
        "              num = num+1\n",
        "dfMapTable = pd.DataFrame(facTable,columns=['state'])"
      ],
      "execution_count": null,
      "outputs": []
    },
    {
      "cell_type": "code",
      "metadata": {
        "id": "bbG3CQw8ZmyA",
        "outputId": "c324098a-0cf7-4a0e-ebc2-823713252cba",
        "colab": {
          "base_uri": "https://localhost:8080/",
          "height": 204
        }
      },
      "source": [
        "dfMapTable.tail()"
      ],
      "execution_count": null,
      "outputs": [
        {
          "output_type": "execute_result",
          "data": {
            "text/html": [
              "<div>\n",
              "<style scoped>\n",
              "    .dataframe tbody tr th:only-of-type {\n",
              "        vertical-align: middle;\n",
              "    }\n",
              "\n",
              "    .dataframe tbody tr th {\n",
              "        vertical-align: top;\n",
              "    }\n",
              "\n",
              "    .dataframe thead th {\n",
              "        text-align: right;\n",
              "    }\n",
              "</style>\n",
              "<table border=\"1\" class=\"dataframe\">\n",
              "  <thead>\n",
              "    <tr style=\"text-align: right;\">\n",
              "      <th></th>\n",
              "      <th>state</th>\n",
              "    </tr>\n",
              "  </thead>\n",
              "  <tbody>\n",
              "    <tr>\n",
              "      <th>62995</th>\n",
              "      <td>0,9,2,4,6,2,3</td>\n",
              "    </tr>\n",
              "    <tr>\n",
              "      <th>62996</th>\n",
              "      <td>1,9,2,4,6,2,3</td>\n",
              "    </tr>\n",
              "    <tr>\n",
              "      <th>62997</th>\n",
              "      <td>2,9,2,4,6,2,3</td>\n",
              "    </tr>\n",
              "    <tr>\n",
              "      <th>62998</th>\n",
              "      <td>3,9,2,4,6,2,3</td>\n",
              "    </tr>\n",
              "    <tr>\n",
              "      <th>62999</th>\n",
              "      <td>4,9,2,4,6,2,3</td>\n",
              "    </tr>\n",
              "  </tbody>\n",
              "</table>\n",
              "</div>"
            ],
            "text/plain": [
              "               state\n",
              "62995  0,9,2,4,6,2,3\n",
              "62996  1,9,2,4,6,2,3\n",
              "62997  2,9,2,4,6,2,3\n",
              "62998  3,9,2,4,6,2,3\n",
              "62999  4,9,2,4,6,2,3"
            ]
          },
          "metadata": {
            "tags": []
          },
          "execution_count": 4
        }
      ]
    },
    {
      "cell_type": "code",
      "metadata": {
        "id": "Sdfxdko_YoLI"
      },
      "source": [
        "def step(state,action,mby):\n",
        "  #print(\"state=\",state,\"action=\",action)\n",
        "  maxF1 = 4\n",
        "  maxF2 = 9\n",
        "  maxF3 = 2\n",
        "  maxn = 4\n",
        "  maxe = 6\n",
        "  maxw = 2\n",
        "  maxs = 3\n",
        "  r = 0\n",
        "  stateText = dfMapTable.iloc[state]['state']\n",
        "  #Conv state to array\n",
        "  f1,f2,f3,n,e,w,s = stateText.split(\",\")\n",
        "  f1,f2,f3,n,e,w,s = int(f1),int(f2),int(f3),int(n),int(e),int(w),int(s)\n",
        "  #print(f1,f2,f3,n,e,w,s)\n",
        "  #4,9,2,4,6,2,3 => f1,f2,f3,n,e,w,s\n",
        "  #Defined Action 1-12\n",
        "  r = -100\n",
        "  oldResult = mby[0]*7+mby[1]*5+mby[2]*5+mby[3]*1+mby[4]*9+mby[5]*7+mby[6]*5+mby[7]*2+mby[8]*4+mby[9]*4+mby[10]*6+mby[11]*4\n",
        "  if action == 1:\n",
        "    if f1 < maxF1 and n < maxn:\n",
        "      f1 = f1 + 1\n",
        "      n = n + 1 \n",
        "      r = -7\n",
        "      mby[0] = mby[0] + 1\n",
        "  elif action == 2:\n",
        "    if f1 < maxF1 and e < maxe:\n",
        "      f1 = f1 + 1 \n",
        "      r = -5\n",
        "      e = e + 1\n",
        "      mby[1] = mby[1] + 1\n",
        "  elif action == 3:\n",
        "    if f1 < maxF1 and w < maxw:\n",
        "      f1 = f1 + 1 \n",
        "      w = w + 1\n",
        "      r = -5\n",
        "      mby[2] = mby[2] + 1\n",
        "  elif action == 4:\n",
        "    if f1 < maxF1 and s < maxs:\n",
        "      f1 = f1 + 1 \n",
        "      s = s + 1\n",
        "      r = -1\n",
        "      mby[3] = mby[3] + 1\n",
        "  elif action == 5:\n",
        "    if f2 < maxF2 and n < maxn:\n",
        "      f2 = f2 + 1\n",
        "      n = n + 1\n",
        "      r = -9\n",
        "      mby[4] = mby[4] + 1\n",
        "  elif action == 6:\n",
        "    if f2 < maxF2 and e < maxe:\n",
        "      f2 = f2 + 1\n",
        "      e = e + 1\n",
        "      r = -7\n",
        "      mby[5] = mby[5] + 1\n",
        "  elif action == 7:\n",
        "    if f2 < maxF2 and w < maxw:\n",
        "      f2 = f2 + 1\n",
        "      w = w + 1\n",
        "      r = -5\n",
        "      mby[6] = mby[6] + 1\n",
        "  elif action == 8:\n",
        "    if f2 < maxF2 and s < maxs:\n",
        "      f2 = f2 + 1 \n",
        "      s = s + 1\n",
        "      r = -2\n",
        "      mby[7] = mby[7] + 1\n",
        "  elif action == 9:\n",
        "    if f3 < maxF3 and n < maxn:\n",
        "      f3 = f3 + 1\n",
        "      n = n + 1\n",
        "      r = -4\n",
        "      mby[8] = mby[8] + 1\n",
        "  elif action == 10:\n",
        "    if f3 < maxF3 and e < maxe:\n",
        "      f3 = f3 + 1 \n",
        "      e = e + 1\n",
        "      r = -4\n",
        "      mby[9] = mby[9] + 1\n",
        "  elif action == 11:\n",
        "    if f3 < maxF3 and w < maxw:\n",
        "      f3 = f3 + 1 \n",
        "      w = w + 1 \n",
        "      r = -6 \n",
        "      mby[10] = mby[10] + 1\n",
        "  elif action == 12:\n",
        "    if f3 < maxF3 and s < maxs:\n",
        "      f3 = f3 + 1 \n",
        "      s = s + 1 \n",
        "      r = -4\n",
        "      mby[11] = mby[1] + 1\n",
        "  if(f1 == 4 and  f2 == 9 and f3 == 2):\n",
        "    done = True\n",
        "\n",
        "  else:\n",
        "    done = False\n",
        "  #print(f1,f2,f3,n,e,w,s)\n",
        "  NextState  = int(MapRevTable[f1][f2][f3][n][e][w][s])\n",
        "  Reward = r\n",
        "  newResult = mby[0]*7+mby[1]*5+mby[2]*5+mby[3]*1+mby[4]*9+mby[5]*7+mby[6]*5+mby[7]*2+mby[8]*4+mby[9]*4+mby[10]*6+mby[11]*4\n",
        "  reward  = oldResult - newResult\n",
        "  info = \"\"\n",
        "  #print(int(NextState))\n",
        "  return [NextState,Reward,done,info]"
      ],
      "execution_count": null,
      "outputs": []
    },
    {
      "cell_type": "code",
      "metadata": {
        "id": "po8e_u2oW2ZO",
        "outputId": "5915efd3-f089-4dce-e237-2fe0d308b7c4",
        "colab": {
          "base_uri": "https://localhost:8080/",
          "height": 1000
        }
      },
      "source": [
        "# Hyperparameters\n",
        "alpha = 0.8\n",
        "gamma = 1\n",
        "epsilon = 0\n",
        "results  = []\n",
        "# For plotting metrics\n",
        "all_epochs = []\n",
        "all_penalties = []\n",
        "\n",
        "for i in range(1, 10001):\n",
        "    state = 0\n",
        "\n",
        "    epochs, penalties, reward, = 0, 0, 0\n",
        "    done = False\n",
        "    mby = np.zeros(12)\n",
        "    while not done:\n",
        "        if random.uniform(0, 1) < epsilon:\n",
        "          action = random.randint(1,total_action) # Explore action space\n",
        "        else:\n",
        "            action = np.argmax(Qtable[state]) # Exploit learned values\n",
        "\n",
        "        next_state, reward, done, info = step(state,action,mby) \n",
        "        \n",
        "        old_value = Qtable[state,action]\n",
        "        next_max = np.max(Qtable[next_state])\n",
        "        \n",
        "        new_value = (1 - alpha) * old_value + alpha * (reward + gamma * next_max)\n",
        "        Qtable[state,action] = new_value\n",
        "\n",
        "        state = next_state\n",
        "        epochs += 1\n",
        "    result = mby[0]*7+mby[1]*5+mby[2]*5+mby[3]*1+mby[4]*9+mby[5]*7+mby[6]*5+mby[7]*2+mby[8]*4+mby[9]*4+mby[10]*6+mby[11]*4\n",
        "    results.append(result)\n",
        "    #print(mby,result)\n",
        "    if i % 1000 == 0:\n",
        "      #clear_output(wait=True)\n",
        "      print(f\"Episode: {i}\")\n",
        "      plt.plot(results)\n",
        "      plt.show()\n",
        "      print(result)\n",
        "print(\"Training finished.\\n\")"
      ],
      "execution_count": null,
      "outputs": [
        {
          "output_type": "stream",
          "text": [
            "Episode: 1000\n"
          ],
          "name": "stdout"
        },
        {
          "output_type": "display_data",
          "data": {
            "image/png": "[encoded data removed]",
            "text/plain": [
              "<Figure size 432x288 with 1 Axes>"
            ]
          },
          "metadata": {
            "tags": [],
            "needs_background": "light"
          }
        },
        {
          "output_type": "stream",
          "text": [
            "76.0\n",
            "Episode: 2000\n"
          ],
          "name": "stdout"
        },
        {
          "output_type": "display_data",
          "data": {
            "image/png": "[encoded data removed]",
            "text/plain": [
              "<Figure size 432x288 with 1 Axes>"
            ]
          },
          "metadata": {
            "tags": [],
            "needs_background": "light"
          }
        },
        {
          "output_type": "stream",
          "text": [
            "76.0\n",
            "Episode: 3000\n"
          ],
          "name": "stdout"
        },
        {
          "output_type": "display_data",
          "data": {
            "image/png": "[encoded data removed]",
            "text/plain": [
              "<Figure size 432x288 with 1 Axes>"
            ]
          },
          "metadata": {
            "tags": [],
            "needs_background": "light"
          }
        },
        {
          "output_type": "stream",
          "text": [
            "76.0\n",
            "Episode: 4000\n"
          ],
          "name": "stdout"
        },
        {
          "output_type": "display_data",
          "data": {
            "image/png": "[encoded data removed]",
            "text/plain": [
              "<Figure size 432x288 with 1 Axes>"
            ]
          },
          "metadata": {
            "tags": [],
            "needs_background": "light"
          }
        },
        {
          "output_type": "stream",
          "text": [
            "77.0\n",
            "Episode: 5000\n"
          ],
          "name": "stdout"
        },
        {
          "output_type": "display_data",
          "data": {
            "image/png": "[encoded data removed]",
            "text/plain": [
              "<Figure size 432x288 with 1 Axes>"
            ]
          },
          "metadata": {
            "tags": [],
            "needs_background": "light"
          }
        },
        {
          "output_type": "stream",
          "text": [
            "77.0\n",
            "Episode: 6000\n"
          ],
          "name": "stdout"
        },
        {
          "output_type": "display_data",
          "data": {
            "image/png": "[encoded data removed]",
            "text/plain": [
              "<Figure size 432x288 with 1 Axes>"
            ]
          },
          "metadata": {
            "tags": [],
            "needs_background": "light"
          }
        },
        {
          "output_type": "stream",
          "text": [
            "76.0\n",
            "Episode: 7000\n"
          ],
          "name": "stdout"
        },
        {
          "output_type": "display_data",
          "data": {
            "image/png": "[encoded data removed]",
            "text/plain": [
              "<Figure size 432x288 with 1 Axes>"
            ]
          },
          "metadata": {
            "tags": [],
            "needs_background": "light"
          }
        },
        {
          "output_type": "stream",
          "text": [
            "76.0\n",
            "Episode: 8000\n"
          ],
          "name": "stdout"
        },
        {
          "output_type": "display_data",
          "data": {
            "image/png": "[encoded data removed]",
            "text/plain": [
              "<Figure size 432x288 with 1 Axes>"
            ]
          },
          "metadata": {
            "tags": [],
            "needs_background": "light"
          }
        },
        {
          "output_type": "stream",
          "text": [
            "76.0\n",
            "Episode: 9000\n"
          ],
          "name": "stdout"
        },
        {
          "output_type": "display_data",
          "data": {
            "image/png": "[encoded data removed]",
            "text/plain": [
              "<Figure size 432x288 with 1 Axes>"
            ]
          },
          "metadata": {
            "tags": [],
            "needs_background": "light"
          }
        },
        {
          "output_type": "stream",
          "text": [
            "76.0\n",
            "Episode: 10000\n"
          ],
          "name": "stdout"
        },
        {
          "output_type": "display_data",
          "data": {
            "image/png": "[encoded data removed]",
            "text/plain": [
              "<Figure size 432x288 with 1 Axes>"
            ]
          },
          "metadata": {
            "tags": [],
            "needs_background": "light"
          }
        },
        {
          "output_type": "stream",
          "text": [
            "76.0\n",
            "Training finished.\n",
            "\n"
          ],
          "name": "stdout"
        }
      ]
    },
    {
      "cell_type": "code",
      "metadata": {
        "id": "rc6rFbbN9qjo",
        "outputId": "98ffb88a-e68d-45de-e6f7-ff8f91e6e149",
        "colab": {
          "base_uri": "https://localhost:8080/",
          "height": 419
        }
      },
      "source": [
        "pd.DataFrame(Qtable)"
      ],
      "execution_count": null,
      "outputs": [
        {
          "output_type": "execute_result",
          "data": {
            "text/html": [
              "<div>\n",
              "<style scoped>\n",
              "    .dataframe tbody tr th:only-of-type {\n",
              "        vertical-align: middle;\n",
              "    }\n",
              "\n",
              "    .dataframe tbody tr th {\n",
              "        vertical-align: top;\n",
              "    }\n",
              "\n",
              "    .dataframe thead th {\n",
              "        text-align: right;\n",
              "    }\n",
              "</style>\n",
              "<table border=\"1\" class=\"dataframe\">\n",
              "  <thead>\n",
              "    <tr style=\"text-align: right;\">\n",
              "      <th></th>\n",
              "      <th>0</th>\n",
              "      <th>1</th>\n",
              "      <th>2</th>\n",
              "      <th>3</th>\n",
              "      <th>4</th>\n",
              "      <th>5</th>\n",
              "      <th>6</th>\n",
              "      <th>7</th>\n",
              "      <th>8</th>\n",
              "      <th>9</th>\n",
              "      <th>10</th>\n",
              "      <th>11</th>\n",
              "      <th>12</th>\n",
              "    </tr>\n",
              "  </thead>\n",
              "  <tbody>\n",
              "    <tr>\n",
              "      <th>0</th>\n",
              "      <td>-80.0</td>\n",
              "      <td>-75.997879</td>\n",
              "      <td>-75.997875</td>\n",
              "      <td>-76.02376</td>\n",
              "      <td>-75.998035</td>\n",
              "      <td>-75.997875</td>\n",
              "      <td>-75.997865</td>\n",
              "      <td>-75.997867</td>\n",
              "      <td>-75.997869</td>\n",
              "      <td>-75.997864</td>\n",
              "      <td>-76.000051</td>\n",
              "      <td>-76.007155</td>\n",
              "      <td>-76.061425</td>\n",
              "    </tr>\n",
              "    <tr>\n",
              "      <th>1</th>\n",
              "      <td>0.0</td>\n",
              "      <td>0.000000</td>\n",
              "      <td>0.000000</td>\n",
              "      <td>0.00000</td>\n",
              "      <td>0.000000</td>\n",
              "      <td>0.000000</td>\n",
              "      <td>0.000000</td>\n",
              "      <td>0.000000</td>\n",
              "      <td>0.000000</td>\n",
              "      <td>0.000000</td>\n",
              "      <td>0.000000</td>\n",
              "      <td>0.000000</td>\n",
              "      <td>0.000000</td>\n",
              "    </tr>\n",
              "    <tr>\n",
              "      <th>2</th>\n",
              "      <td>0.0</td>\n",
              "      <td>0.000000</td>\n",
              "      <td>0.000000</td>\n",
              "      <td>0.00000</td>\n",
              "      <td>0.000000</td>\n",
              "      <td>0.000000</td>\n",
              "      <td>0.000000</td>\n",
              "      <td>0.000000</td>\n",
              "      <td>0.000000</td>\n",
              "      <td>0.000000</td>\n",
              "      <td>0.000000</td>\n",
              "      <td>0.000000</td>\n",
              "      <td>0.000000</td>\n",
              "    </tr>\n",
              "    <tr>\n",
              "      <th>3</th>\n",
              "      <td>0.0</td>\n",
              "      <td>0.000000</td>\n",
              "      <td>0.000000</td>\n",
              "      <td>0.00000</td>\n",
              "      <td>0.000000</td>\n",
              "      <td>0.000000</td>\n",
              "      <td>0.000000</td>\n",
              "      <td>0.000000</td>\n",
              "      <td>0.000000</td>\n",
              "      <td>0.000000</td>\n",
              "      <td>0.000000</td>\n",
              "      <td>0.000000</td>\n",
              "      <td>0.000000</td>\n",
              "    </tr>\n",
              "    <tr>\n",
              "      <th>4</th>\n",
              "      <td>0.0</td>\n",
              "      <td>0.000000</td>\n",
              "      <td>0.000000</td>\n",
              "      <td>0.00000</td>\n",
              "      <td>0.000000</td>\n",
              "      <td>0.000000</td>\n",
              "      <td>0.000000</td>\n",
              "      <td>0.000000</td>\n",
              "      <td>0.000000</td>\n",
              "      <td>0.000000</td>\n",
              "      <td>0.000000</td>\n",
              "      <td>0.000000</td>\n",
              "      <td>0.000000</td>\n",
              "    </tr>\n",
              "    <tr>\n",
              "      <th>...</th>\n",
              "      <td>...</td>\n",
              "      <td>...</td>\n",
              "      <td>...</td>\n",
              "      <td>...</td>\n",
              "      <td>...</td>\n",
              "      <td>...</td>\n",
              "      <td>...</td>\n",
              "      <td>...</td>\n",
              "      <td>...</td>\n",
              "      <td>...</td>\n",
              "      <td>...</td>\n",
              "      <td>...</td>\n",
              "      <td>...</td>\n",
              "    </tr>\n",
              "    <tr>\n",
              "      <th>62995</th>\n",
              "      <td>0.0</td>\n",
              "      <td>0.000000</td>\n",
              "      <td>0.000000</td>\n",
              "      <td>0.00000</td>\n",
              "      <td>0.000000</td>\n",
              "      <td>0.000000</td>\n",
              "      <td>0.000000</td>\n",
              "      <td>0.000000</td>\n",
              "      <td>0.000000</td>\n",
              "      <td>0.000000</td>\n",
              "      <td>0.000000</td>\n",
              "      <td>0.000000</td>\n",
              "      <td>0.000000</td>\n",
              "    </tr>\n",
              "    <tr>\n",
              "      <th>62996</th>\n",
              "      <td>0.0</td>\n",
              "      <td>0.000000</td>\n",
              "      <td>0.000000</td>\n",
              "      <td>0.00000</td>\n",
              "      <td>0.000000</td>\n",
              "      <td>0.000000</td>\n",
              "      <td>0.000000</td>\n",
              "      <td>0.000000</td>\n",
              "      <td>0.000000</td>\n",
              "      <td>0.000000</td>\n",
              "      <td>0.000000</td>\n",
              "      <td>0.000000</td>\n",
              "      <td>0.000000</td>\n",
              "    </tr>\n",
              "    <tr>\n",
              "      <th>62997</th>\n",
              "      <td>0.0</td>\n",
              "      <td>0.000000</td>\n",
              "      <td>0.000000</td>\n",
              "      <td>0.00000</td>\n",
              "      <td>0.000000</td>\n",
              "      <td>0.000000</td>\n",
              "      <td>0.000000</td>\n",
              "      <td>0.000000</td>\n",
              "      <td>0.000000</td>\n",
              "      <td>0.000000</td>\n",
              "      <td>0.000000</td>\n",
              "      <td>0.000000</td>\n",
              "      <td>0.000000</td>\n",
              "    </tr>\n",
              "    <tr>\n",
              "      <th>62998</th>\n",
              "      <td>0.0</td>\n",
              "      <td>0.000000</td>\n",
              "      <td>0.000000</td>\n",
              "      <td>0.00000</td>\n",
              "      <td>0.000000</td>\n",
              "      <td>0.000000</td>\n",
              "      <td>0.000000</td>\n",
              "      <td>0.000000</td>\n",
              "      <td>0.000000</td>\n",
              "      <td>0.000000</td>\n",
              "      <td>0.000000</td>\n",
              "      <td>0.000000</td>\n",
              "      <td>0.000000</td>\n",
              "    </tr>\n",
              "    <tr>\n",
              "      <th>62999</th>\n",
              "      <td>0.0</td>\n",
              "      <td>0.000000</td>\n",
              "      <td>0.000000</td>\n",
              "      <td>0.00000</td>\n",
              "      <td>0.000000</td>\n",
              "      <td>0.000000</td>\n",
              "      <td>0.000000</td>\n",
              "      <td>0.000000</td>\n",
              "      <td>0.000000</td>\n",
              "      <td>0.000000</td>\n",
              "      <td>0.000000</td>\n",
              "      <td>0.000000</td>\n",
              "      <td>0.000000</td>\n",
              "    </tr>\n",
              "  </tbody>\n",
              "</table>\n",
              "<p>63000 rows × 13 columns</p>\n",
              "</div>"
            ],
            "text/plain": [
              "         0          1          2   ...         10         11         12\n",
              "0     -80.0 -75.997879 -75.997875  ... -76.000051 -76.007155 -76.061425\n",
              "1       0.0   0.000000   0.000000  ...   0.000000   0.000000   0.000000\n",
              "2       0.0   0.000000   0.000000  ...   0.000000   0.000000   0.000000\n",
              "3       0.0   0.000000   0.000000  ...   0.000000   0.000000   0.000000\n",
              "4       0.0   0.000000   0.000000  ...   0.000000   0.000000   0.000000\n",
              "...     ...        ...        ...  ...        ...        ...        ...\n",
              "62995   0.0   0.000000   0.000000  ...   0.000000   0.000000   0.000000\n",
              "62996   0.0   0.000000   0.000000  ...   0.000000   0.000000   0.000000\n",
              "62997   0.0   0.000000   0.000000  ...   0.000000   0.000000   0.000000\n",
              "62998   0.0   0.000000   0.000000  ...   0.000000   0.000000   0.000000\n",
              "62999   0.0   0.000000   0.000000  ...   0.000000   0.000000   0.000000\n",
              "\n",
              "[63000 rows x 13 columns]"
            ]
          },
          "metadata": {
            "tags": []
          },
          "execution_count": 25
        }
      ]
    },
    {
      "cell_type": "code",
      "metadata": {
        "id": "HPb0UPiEUC7D",
        "outputId": "eabcdb8d-5158-4a8e-a677-c28cf7fbc327",
        "colab": {
          "base_uri": "https://localhost:8080/"
        }
      },
      "source": [
        "results  = []\n",
        "# For plotting metrics\n",
        "all_epochs = []\n",
        "all_penalties = []\n",
        "\n",
        "state = 0\n",
        "epochs, penalties, reward, = 0, 0, 0\n",
        "done = False\n",
        "mby = np.zeros(12)\n",
        "while not done:\n",
        "    action = np.argmax(Qtable[state]) # Exploit learned values\n",
        "    next_state, reward, done, info = step(state,action,mby) \n",
        "    next_max = np.max(Qtable[next_state])\n",
        "    state = next_state\n",
        "    epochs += 1\n",
        "result = mby[0]*7+mby[1]*5+mby[2]*5+mby[3]*1+mby[4]*9+mby[5]*7+mby[6]*5+mby[7]*2+mby[8]*4+mby[9]*4+mby[10]*6+mby[11]*4\n",
        "print(mby,result)\n",
        "#clear_output(wait=True)\n",
        "print(result)\n",
        "print(\"Training finished.\\n\")"
      ],
      "execution_count": null,
      "outputs": [
        {
          "output_type": "stream",
          "text": [
            "[1. 3. 0. 0. 1. 3. 2. 3. 2. 0. 0. 0.] 76.0\n",
            "76.0\n",
            "Training finished.\n",
            "\n"
          ],
          "name": "stdout"
        }
      ]
    },
    {
      "cell_type": "code",
      "metadata": {
        "id": "1kgwFZjQmo9k"
      },
      "source": [
        ""
      ],
      "execution_count": null,
      "outputs": []
    }
  ]
}