{
  "nbformat": 4,
  "nbformat_minor": 0,
  "metadata": {
    "colab": {
      "name": "BigOnotation.ipynb",
      "provenance": [],
      "authorship_tag": "ABX9TyMagru7ozQoJnHff830cd3W",
      "include_colab_link": true
    },
    "kernelspec": {
      "name": "python3",
      "display_name": "Python 3"
    }
  },
  "cells": [
    {
      "cell_type": "markdown",
      "metadata": {
        "id": "view-in-github",
        "colab_type": "text"
      },
      "source": [
        "<a href=\"https://colab.research.google.com/github/krmonline/ReinforcementLearning/blob/main/BigOnotation.ipynb\" target=\"_parent\"><img src=\"https://colab.research.google.com/assets/colab-badge.svg\" alt=\"Open In Colab\"/></a>"
      ]
    },
    {
      "cell_type": "code",
      "metadata": {
        "id": "9ocwKcdSjz0d"
      },
      "source": [
        "import datetime as dt\n",
        "import matplotlib.pyplot as plt"
      ],
      "execution_count": 2,
      "outputs": []
    },
    {
      "cell_type": "code",
      "metadata": {
        "id": "nvU4wBT9jnkf"
      },
      "source": [
        "n = 100\n",
        "start = dt.datetime.now()\n",
        "for i in range(n):\n",
        "  a = 1\n",
        "stop = dt.datetime.now()"
      ],
      "execution_count": 3,
      "outputs": []
    },
    {
      "cell_type": "code",
      "metadata": {
        "id": "gR6btHGskFAJ",
        "outputId": "33aa676d-de63-4c68-d143-80bca6842bd5",
        "colab": {
          "base_uri": "https://localhost:8080/"
        }
      },
      "source": [
        "diff = stop - start\n",
        "diff.microseconds"
      ],
      "execution_count": 4,
      "outputs": [
        {
          "output_type": "execute_result",
          "data": {
            "text/plain": [
              "58"
            ]
          },
          "metadata": {
            "tags": []
          },
          "execution_count": 4
        }
      ]
    },
    {
      "cell_type": "code",
      "metadata": {
        "id": "FxJ3aZiwkcMM"
      },
      "source": [
        "loop = [100,200,300,400,500,600,700,800,900,1000,1100,1200,1300,1400,1500,1600,1700,1800,1900,2000]\n",
        "bigON = []\n",
        "a = 0\n",
        "for n in loop:\n",
        "  start = dt.datetime.now()\n",
        "  for i in range(n):\n",
        "    a = a + i\n",
        "  stop = dt.datetime.now() \n",
        "  diff = stop - start\n",
        "  diff.microseconds\n",
        "  bigON.append(diff.microseconds)\n"
      ],
      "execution_count": 5,
      "outputs": []
    },
    {
      "cell_type": "code",
      "metadata": {
        "id": "qaEQx-nfkgis",
        "outputId": "1f886fd9-297a-4e2c-b914-5dab7b76498d",
        "colab": {
          "base_uri": "https://localhost:8080/",
          "height": 282
        }
      },
      "source": [
        "plt.plot(loop,bigON)\n",
        "plt.legend([\"BigO(n)\"])"
      ],
      "execution_count": null,
      "outputs": [
        {
          "output_type": "execute_result",
          "data": {
            "text/plain": [
              "<matplotlib.legend.Legend at 0x7fd7eea33f60>"
            ]
          },
          "metadata": {
            "tags": []
          },
          "execution_count": 9
        },
        {
          "output_type": "display_data",
          "data": {
            "image/png": "[encoded data removed]",
            "text/plain": [
              "<Figure size 432x288 with 1 Axes>"
            ]
          },
          "metadata": {
            "tags": [],
            "needs_background": "light"
          }
        }
      ]
    },
    {
      "cell_type": "code",
      "metadata": {
        "id": "aeykiLkElZWV"
      },
      "source": [
        "#loop = [100,200,300,400,500,600,700,800,900,1000]\n",
        "bigONN = []\n",
        "for n in loop:\n",
        "  start = dt.datetime.now()\n",
        "  for i in range(n):\n",
        "    for j in range(n):\n",
        "      a = a + i\n",
        "  stop = dt.datetime.now() \n",
        "  diff = stop - start\n",
        "  bigONN.append(diff.microseconds)"
      ],
      "execution_count": null,
      "outputs": []
    },
    {
      "cell_type": "code",
      "metadata": {
        "id": "2XI-fu5DmRSx",
        "outputId": "78a47283-099a-4980-ff50-7793d162dfd7",
        "colab": {
          "base_uri": "https://localhost:8080/",
          "height": 282
        }
      },
      "source": [
        "plt.plot(loop,bigON)\n",
        "plt.plot(loop,bigONN)\n",
        "plt.legend([\"BigO(n)\",\"BigO(n^2)\"])"
      ],
      "execution_count": null,
      "outputs": [
        {
          "output_type": "execute_result",
          "data": {
            "text/plain": [
              "<matplotlib.legend.Legend at 0x7fd7ee515eb8>"
            ]
          },
          "metadata": {
            "tags": []
          },
          "execution_count": 11
        },
        {
          "output_type": "display_data",
          "data": {
            "image/png": "[encoded data removed]",
            "text/plain": [
              "<Figure size 432x288 with 1 Axes>"
            ]
          },
          "metadata": {
            "tags": [],
            "needs_background": "light"
          }
        }
      ]
    },
    {
      "cell_type": "code",
      "metadata": {
        "id": "0Rf8K-GNmwsa"
      },
      "source": [
        "import random"
      ],
      "execution_count": null,
      "outputs": []
    },
    {
      "cell_type": "code",
      "metadata": {
        "id": "zm0ghDIcpLd7"
      },
      "source": [
        "myarr  = []\n",
        "for i in range(6000):\n",
        "  myarr.append(random.randint(1,10000))"
      ],
      "execution_count": null,
      "outputs": []
    },
    {
      "cell_type": "code",
      "metadata": {
        "id": "yHGuUYLJpPG1"
      },
      "source": [
        "n = len(myarr)\n",
        "for i in range(n-1):\n",
        "  if myarr[i] < myarr[i+1]:\n",
        "    #print(myarr[i],myarr[i+1])\n",
        "    myarr[i],myarr[i+1] = myarr[i+1],myarr[i]\n",
        "    #print(myarr[i],myarr[i+1])"
      ],
      "execution_count": null,
      "outputs": []
    },
    {
      "cell_type": "code",
      "metadata": {
        "id": "BgF2Tetip0xk",
        "outputId": "efd9683c-cafa-4cce-a81c-fa5beab897a5",
        "colab": {
          "base_uri": "https://localhost:8080/"
        }
      },
      "source": [
        "myarr[-5:]"
      ],
      "execution_count": null,
      "outputs": [
        {
          "output_type": "execute_result",
          "data": {
            "text/plain": [
              "[5940, 297, 2311, 5631, 1]"
            ]
          },
          "metadata": {
            "tags": []
          },
          "execution_count": 32
        }
      ]
    },
    {
      "cell_type": "code",
      "metadata": {
        "id": "O_97GtN8p_Tw",
        "outputId": "28bd810f-6184-4987-9fe5-28c9b1f00089",
        "colab": {
          "base_uri": "https://localhost:8080/"
        }
      },
      "source": [
        "n = len(myarr)\n",
        "start = dt.datetime.now()\n",
        "for j in range(n-1):\n",
        "  for i in range(n-1):\n",
        "    if myarr[i] < myarr[i+1]:\n",
        "      #print(myarr[i],myarr[i+1])\n",
        "      myarr[i],myarr[i+1] = myarr[i+1],myarr[i]\n",
        "      #print(myarr[i],myarr[i+1])\n",
        "stop = dt.datetime.now()\n",
        "diff = stop - start\n",
        "print(diff.seconds,diff.microseconds)"
      ],
      "execution_count": null,
      "outputs": [
        {
          "output_type": "stream",
          "text": [
            "7 674739\n"
          ],
          "name": "stdout"
        }
      ]
    },
    {
      "cell_type": "code",
      "metadata": {
        "id": "3eVsX1g6rBMR"
      },
      "source": [
        "def mergeSort(arr): \n",
        "    if len(arr) >1: \n",
        "        mid = len(arr)//2 # Finding the mid of the array \n",
        "        L = arr[:mid] # Dividing the array elements  \n",
        "        R = arr[mid:] # into 2 halves \n",
        "  \n",
        "        mergeSort(L) # Sorting the first half \n",
        "        mergeSort(R) # Sorting the second half \n",
        "  \n",
        "        i = j = k = 0\n",
        "          \n",
        "        # Copy data to temp arrays L[] and R[] \n",
        "        while i < len(L) and j < len(R): \n",
        "            if L[i] < R[j]: \n",
        "                arr[k] = L[i] \n",
        "                i+= 1\n",
        "            else: \n",
        "                arr[k] = R[j] \n",
        "                j+= 1\n",
        "            k+= 1\n",
        "          \n",
        "        # Checking if any element was left \n",
        "        while i < len(L): \n",
        "            arr[k] = L[i] \n",
        "            i+= 1\n",
        "            k+= 1\n",
        "          \n",
        "        while j < len(R): \n",
        "            arr[k] = R[j] \n",
        "            j+= 1\n",
        "            k+= 1"
      ],
      "execution_count": null,
      "outputs": []
    },
    {
      "cell_type": "code",
      "metadata": {
        "id": "tW0OHlX1rG5e",
        "outputId": "06bebcb5-ccb8-45e5-d3ce-580559480529",
        "colab": {
          "base_uri": "https://localhost:8080/"
        }
      },
      "source": [
        "start = dt.datetime.now()\n",
        "mergeSort(myarr)\n",
        "stop = dt.datetime.now()\n",
        "diff = stop - start\n",
        "print(diff.seconds,diff.microseconds)"
      ],
      "execution_count": null,
      "outputs": [
        {
          "output_type": "stream",
          "text": [
            "0 32503\n"
          ],
          "name": "stdout"
        }
      ]
    },
    {
      "cell_type": "code",
      "metadata": {
        "id": "y89Ynguzv4Bf"
      },
      "source": [
        "bigONlogN = []\n",
        "for n in loop:\n",
        "  myarr  = []\n",
        "  for i in range(n):\n",
        "    myarr.append(random.randint(1,10000))\n",
        "  start = dt.datetime.now()\n",
        "  mergeSort(myarr)\n",
        "  stop = dt.datetime.now()\n",
        "  diff = stop - start\n",
        "  bigONlogN.append(diff.microseconds)"
      ],
      "execution_count": null,
      "outputs": []
    },
    {
      "cell_type": "code",
      "metadata": {
        "id": "9ZzJpDC2yZj8",
        "outputId": "bbbfdb70-cf9b-4afe-bd6b-0284c7418200",
        "colab": {
          "base_uri": "https://localhost:8080/",
          "height": 282
        }
      },
      "source": [
        "plt.plot(loop,bigON)\n",
        "plt.plot(loop,bigONN)\n",
        "plt.plot(loop,bigONlogN)\n",
        "plt.legend([\"BigO(n)\",\"BigO(n^2)\",\"BigO(nlog(n))\"])"
      ],
      "execution_count": null,
      "outputs": [
        {
          "output_type": "execute_result",
          "data": {
            "text/plain": [
              "<matplotlib.legend.Legend at 0x7fd7ee2cd4a8>"
            ]
          },
          "metadata": {
            "tags": []
          },
          "execution_count": 42
        },
        {
          "output_type": "display_data",
          "data": {
            "image/png": "[encoded data removed]",
            "text/plain": [
              "<Figure size 432x288 with 1 Axes>"
            ]
          },
          "metadata": {
            "tags": [],
            "needs_background": "light"
          }
        }
      ]
    },
    {
      "cell_type": "code",
      "metadata": {
        "id": "b8GR22gnzrrJ"
      },
      "source": [
        ""
      ],
      "execution_count": null,
      "outputs": []
    }
  ]
}